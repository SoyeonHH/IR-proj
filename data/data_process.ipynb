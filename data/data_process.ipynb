{
 "cells": [
  {
   "cell_type": "code",
   "execution_count": 1,
   "metadata": {},
   "outputs": [],
   "source": [
    "import os\n",
    "import json\n",
    "import gzip\n",
    "import pandas as pd\n",
    "from urllib.request import urlopen"
   ]
  },
  {
   "cell_type": "code",
   "execution_count": 2,
   "metadata": {},
   "outputs": [
    {
     "name": "stdout",
     "output_type": "stream",
     "text": [
      "--2022-06-05 01:13:40--  http://deepyeti.ucsd.edu/jianmo/amazon/sample/meta_Computers.json.gz\n",
      "Resolving deepyeti.ucsd.edu (deepyeti.ucsd.edu)... 169.228.63.50\n",
      "Connecting to deepyeti.ucsd.edu (deepyeti.ucsd.edu)|169.228.63.50|:80... connected.\n",
      "HTTP request sent, awaiting response... 200 OK\n",
      "Length: 7010521 (6.7M) [application/octet-stream]\n",
      "Saving to: ‘meta_Computers.json.gz.1’\n",
      "\n",
      "meta_Computers.json  12%[=>                  ] 865.14K   163KB/s    eta 37s    ^C\n"
     ]
    }
   ],
   "source": [
    "# !wget http://deepyeti.ucsd.edu/jianmo/amazon/sample/meta_Computers.json.gz"
   ]
  },
  {
   "cell_type": "code",
   "execution_count": 2,
   "metadata": {},
   "outputs": [
    {
     "name": "stdout",
     "output_type": "stream",
     "text": [
      "186637\n",
      "{'title': 'Slime Time Fall Fest [With CDROM and Collector Cards and Neutron Balls, Incredi-Ball and Glow Stick Necklace, Paper Fram', 'brand': 'Group Publishing (CO)', 'feature': ['Product Dimensions:\\n                    \\n8.7 x 3.6 x 11.4 inches', 'Shipping Weight:\\n                    \\n2.4 pounds'], 'rank': '13,052,976inClothing,Shoesamp;Jewelry(', 'date': '8.70 inches', 'asin': '0764443682', 'imageURL': ['https://images-na.ssl-images-amazon.com/images/I/51bSrINiWpL._US40_.jpg'], 'imageURLHighRes': ['https://images-na.ssl-images-amazon.com/images/I/51bSrINiWpL.jpg']}\n"
     ]
    }
   ],
   "source": [
    "### load the meta data\n",
    "\n",
    "data = []\n",
    "with gzip.open('meta_AMAZON_FASHION.json.gz') as f:\n",
    "    for l in f:\n",
    "        data.append(json.loads(l.strip()))\n",
    "    \n",
    "# total length of list, this number equals total number of products\n",
    "print(len(data))\n",
    "\n",
    "# first row of the list\n",
    "print(data[0])"
   ]
  },
  {
   "cell_type": "code",
   "execution_count": 3,
   "metadata": {},
   "outputs": [],
   "source": [
    "import json\n",
    "with open('meta_AMAZON_FASHION.json', 'w') as f:\n",
    "    json.dump(data, f)"
   ]
  },
  {
   "cell_type": "code",
   "execution_count": 4,
   "metadata": {},
   "outputs": [],
   "source": [
    "with open('meta_AMAZON_FASHION.json', 'r') as f:\n",
    "  data = json.load(f)"
   ]
  },
  {
   "cell_type": "code",
   "execution_count": 5,
   "metadata": {},
   "outputs": [
    {
     "name": "stdout",
     "output_type": "stream",
     "text": [
      "186637\n"
     ]
    }
   ],
   "source": [
    "# convert list into pandas dataframe\n",
    "\n",
    "df = pd.DataFrame.from_dict(data)\n",
    "\n",
    "print(len(df))"
   ]
  },
  {
   "cell_type": "code",
   "execution_count": 6,
   "metadata": {},
   "outputs": [
    {
     "name": "stdout",
     "output_type": "stream",
     "text": [
      "430\n",
      "186207\n"
     ]
    }
   ],
   "source": [
    "### remove rows with unformatted title (i.e. some 'title' may still contain html style content)\n",
    "\n",
    "df3 = df.fillna('')\n",
    "df4 = df3[df3.title.str.contains('getTime')] # unformatted rows\n",
    "df5 = df3[~df3.title.str.contains('getTime')] # filter those unformatted rows\n",
    "print(len(df4))\n",
    "print(len(df5))"
   ]
  },
  {
   "cell_type": "code",
   "execution_count": 10,
   "metadata": {},
   "outputs": [
    {
     "data": {
      "text/plain": [
       "title              var aPageStart = (new Date()).getTime();\\nvar ...\n",
       "brand                                                               \n",
       "feature            [Package Dimensions:\\n                    \\n3....\n",
       "rank                              24,954,464inClothing,ShoesJewelry(\n",
       "date                                                          Fossil\n",
       "asin                                                      B0013HNSPS\n",
       "imageURL                                                            \n",
       "imageURLHighRes                                                     \n",
       "description                                                         \n",
       "price                                                               \n",
       "also_view                                                           \n",
       "also_buy                                                            \n",
       "fit                                                                 \n",
       "details                                                             \n",
       "similar_item                                                        \n",
       "tech1                                                               \n",
       "Name: 4248, dtype: object"
      ]
     },
     "execution_count": 10,
     "metadata": {},
     "output_type": "execute_result"
    }
   ],
   "source": [
    "# how those unformatted rows look like\n",
    "df4.iloc[0]"
   ]
  },
  {
   "cell_type": "markdown",
   "metadata": {},
   "source": [
    "## Load AMAZON FASHION meta datasets"
   ]
  },
  {
   "cell_type": "code",
   "execution_count": 2,
   "metadata": {},
   "outputs": [
    {
     "name": "stdout",
     "output_type": "stream",
     "text": [
      "186637\n",
      "{'title': 'Slime Time Fall Fest [With CDROM and Collector Cards and Neutron Balls, Incredi-Ball and Glow Stick Necklace, Paper Fram', 'brand': 'Group Publishing (CO)', 'feature': ['Product Dimensions:\\n                    \\n8.7 x 3.6 x 11.4 inches', 'Shipping Weight:\\n                    \\n2.4 pounds'], 'rank': '13,052,976inClothing,Shoesamp;Jewelry(', 'date': '8.70 inches', 'asin': '0764443682', 'imageURL': ['https://images-na.ssl-images-amazon.com/images/I/51bSrINiWpL._US40_.jpg'], 'imageURLHighRes': ['https://images-na.ssl-images-amazon.com/images/I/51bSrINiWpL.jpg']}\n"
     ]
    }
   ],
   "source": [
    "### load the fashion data\n",
    "\n",
    "data = []\n",
    "with gzip.open('meta_AMAZON_FASHION.json.gz') as f:\n",
    "    for l in f:\n",
    "        data.append(json.loads(l.strip()))\n",
    "    \n",
    "# total length of list, this number equals total number of products\n",
    "print(len(data))\n",
    "\n",
    "# first row of the list\n",
    "print(data[0])"
   ]
  },
  {
   "cell_type": "code",
   "execution_count": 3,
   "metadata": {},
   "outputs": [],
   "source": [
    "import json\n",
    "with open('meta_AMAZON_FASHION.json', 'w') as f:\n",
    "    json.dump(data, f)"
   ]
  },
  {
   "cell_type": "code",
   "execution_count": 4,
   "metadata": {},
   "outputs": [],
   "source": [
    "with open('meta_AMAZON_FASHION.json', 'r') as f:\n",
    "  data = json.load(f)"
   ]
  },
  {
   "cell_type": "code",
   "execution_count": 5,
   "metadata": {},
   "outputs": [
    {
     "name": "stdout",
     "output_type": "stream",
     "text": [
      "186637\n"
     ]
    }
   ],
   "source": [
    "# convert list into pandas dataframe\n",
    "df = pd.DataFrame.from_dict(data)\n",
    "\n",
    "print(len(df))"
   ]
  },
  {
   "cell_type": "code",
   "execution_count": 6,
   "metadata": {},
   "outputs": [
    {
     "name": "stdout",
     "output_type": "stream",
     "text": [
      "430\n",
      "186207\n"
     ]
    }
   ],
   "source": [
    "### remove rows with unformatted title (i.e. some 'title' may still contain html style content)\n",
    "df3 = df.fillna('')\n",
    "df4 = df3[df3.title.str.contains('getTime')] # unformatted rows\n",
    "df5 = df3[~df3.title.str.contains('getTime')] # filter those unformatted rows\n",
    "print(len(df4))\n",
    "print(len(df5))"
   ]
  },
  {
   "cell_type": "code",
   "execution_count": 7,
   "metadata": {},
   "outputs": [
    {
     "data": {
      "text/plain": [
       "title              var aPageStart = (new Date()).getTime();\\nvar ...\n",
       "brand                                                               \n",
       "feature            [Package Dimensions:\\n                    \\n3....\n",
       "rank                              24,954,464inClothing,ShoesJewelry(\n",
       "date                                                          Fossil\n",
       "asin                                                      B0013HNSPS\n",
       "imageURL                                                            \n",
       "imageURLHighRes                                                     \n",
       "description                                                         \n",
       "price                                                               \n",
       "also_view                                                           \n",
       "also_buy                                                            \n",
       "fit                                                                 \n",
       "details                                                             \n",
       "similar_item                                                        \n",
       "tech1                                                               \n",
       "Name: 4248, dtype: object"
      ]
     },
     "execution_count": 7,
     "metadata": {},
     "output_type": "execute_result"
    }
   ],
   "source": [
    "# how those unformatted rows look like\n",
    "df4.iloc[0]"
   ]
  },
  {
   "cell_type": "code",
   "execution_count": 8,
   "metadata": {},
   "outputs": [
    {
     "data": {
      "text/plain": [
       "title              Slime Time Fall Fest [With CDROM and Collector...\n",
       "brand                                          Group Publishing (CO)\n",
       "feature            [Product Dimensions:\\n                    \\n8....\n",
       "rank                          13,052,976inClothing,Shoesamp;Jewelry(\n",
       "date                                                     8.70 inches\n",
       "asin                                                      0764443682\n",
       "imageURL           [https://images-na.ssl-images-amazon.com/image...\n",
       "imageURLHighRes    [https://images-na.ssl-images-amazon.com/image...\n",
       "description                                                         \n",
       "price                                                               \n",
       "also_view                                                           \n",
       "also_buy                                                            \n",
       "fit                                                                 \n",
       "details                                                             \n",
       "similar_item                                                        \n",
       "tech1                                                               \n",
       "Name: 0, dtype: object"
      ]
     },
     "execution_count": 8,
     "metadata": {},
     "output_type": "execute_result"
    }
   ],
   "source": [
    "# formatted rows\n",
    "df5.iloc[0]"
   ]
  },
  {
   "cell_type": "code",
   "execution_count": 9,
   "metadata": {},
   "outputs": [
    {
     "name": "stdout",
     "output_type": "stream",
     "text": [
      "11517\n",
      "21595\n"
     ]
    }
   ],
   "source": [
    "print(len(df5[df5['also_view'] != '']))\n",
    "print(len(df5[df5['also_buy'] != '']))"
   ]
  },
  {
   "cell_type": "code",
   "execution_count": 10,
   "metadata": {},
   "outputs": [],
   "source": [
    "df6 = df5[df5['also_buy'] != '']\n",
    "df6 = df6.reset_index()"
   ]
  },
  {
   "cell_type": "code",
   "execution_count": 11,
   "metadata": {},
   "outputs": [
    {
     "name": "stdout",
     "output_type": "stream",
     "text": [
      "21595\n"
     ]
    }
   ],
   "source": [
    "print(len(df6))"
   ]
  },
  {
   "cell_type": "code",
   "execution_count": 12,
   "metadata": {},
   "outputs": [
    {
     "data": {
      "text/plain": [
       "index                                                             18\n",
       "title              Shimmer Anne Shine Clip On Costume/Halloween C...\n",
       "brand                                             Shimmer Anne Shine\n",
       "feature            [Shimmer Anne Shine Clip On Costume/Halloween ...\n",
       "rank                                 468,314inClothing,ShoesJewelry(\n",
       "date                                                          5 star\n",
       "asin                                                      B00004T3SN\n",
       "imageURL           [https://images-na.ssl-images-amazon.com/image...\n",
       "imageURLHighRes    [https://images-na.ssl-images-amazon.com/image...\n",
       "description        [A fun addition to any costume party, play, or...\n",
       "price                                                          $6.99\n",
       "also_view          [B00Q5RRK78, B00RN3JILE, B00PMUTNOM, B01KA5PTY...\n",
       "also_buy                                                [B01KA5PTYG]\n",
       "fit                                                                 \n",
       "details                                                             \n",
       "similar_item                                                        \n",
       "tech1                                                               \n",
       "Name: 0, dtype: object"
      ]
     },
     "execution_count": 12,
     "metadata": {},
     "output_type": "execute_result"
    }
   ],
   "source": [
    "df6.iloc[0]"
   ]
  },
  {
   "cell_type": "code",
   "execution_count": 13,
   "metadata": {},
   "outputs": [
    {
     "data": {
      "text/plain": [
       "['B01KA5PTYG']"
      ]
     },
     "execution_count": 13,
     "metadata": {},
     "output_type": "execute_result"
    }
   ],
   "source": [
    "df6.also_buy[0]"
   ]
  },
  {
   "cell_type": "code",
   "execution_count": 14,
   "metadata": {},
   "outputs": [
    {
     "name": "stdout",
     "output_type": "stream",
     "text": [
      "1\n"
     ]
    }
   ],
   "source": [
    "print(len(df6.also_buy[0]))"
   ]
  },
  {
   "cell_type": "code",
   "execution_count": 15,
   "metadata": {},
   "outputs": [
    {
     "data": {
      "text/plain": [
       "{'product': 'B00004T3SN', 'related': 'B01KA5PTYG'}"
      ]
     },
     "execution_count": 15,
     "metadata": {},
     "output_type": "execute_result"
    }
   ],
   "source": [
    "dataset_social = []\n",
    "for idx in range(len(df6)):\n",
    "    dict = {}\n",
    "    related = ''\n",
    "    for j in range(len(df6.also_buy[idx])):\n",
    "        related += df6.also_buy[idx][j]\n",
    "        related += ', '\n",
    "    related = related[:-2]\n",
    "    dict = {'product': df6['asin'][idx], 'related': related}\n",
    "    dataset_social.append(dict)\n",
    "\n",
    "dataset_social[0]"
   ]
  },
  {
   "cell_type": "code",
   "execution_count": 16,
   "metadata": {},
   "outputs": [],
   "source": [
    "with open('amazon_fashion_dataset_product.json', 'w') as f:\n",
    "    json.dump(dataset_social, f)"
   ]
  },
  {
   "cell_type": "code",
   "execution_count": 21,
   "metadata": {},
   "outputs": [],
   "source": [
    "with open('amazon_fashion_dataset_product.json', 'r') as f:\n",
    "    data_product = json.load(f)"
   ]
  },
  {
   "cell_type": "code",
   "execution_count": 22,
   "metadata": {},
   "outputs": [
    {
     "data": {
      "text/plain": [
       "{'product': 'B00004T3SN', 'related': 'B01KA5PTYG'}"
      ]
     },
     "execution_count": 22,
     "metadata": {},
     "output_type": "execute_result"
    }
   ],
   "source": [
    "data_product[0]"
   ]
  },
  {
   "cell_type": "markdown",
   "metadata": {},
   "source": [
    "## Load AMAZON FASHION datasets"
   ]
  },
  {
   "cell_type": "code",
   "execution_count": 17,
   "metadata": {},
   "outputs": [
    {
     "name": "stdout",
     "output_type": "stream",
     "text": [
      "883636\n",
      "{'overall': 5.0, 'verified': True, 'reviewTime': '10 20, 2014', 'reviewerID': 'A1D4G1SNUZWQOT', 'asin': '7106116521', 'reviewerName': 'Tracy', 'reviewText': 'Exactly what I needed.', 'summary': 'perfect replacements!!', 'unixReviewTime': 1413763200}\n"
     ]
    }
   ],
   "source": [
    "### load the fashion data\n",
    "data = []\n",
    "with gzip.open('AMAZON_FASHION.json.gz') as f:\n",
    "    for l in f:\n",
    "        data.append(json.loads(l.strip()))\n",
    "    \n",
    "# total length of list, this number equals total number of products\n",
    "print(len(data))\n",
    "\n",
    "# first row of the list\n",
    "print(data[0])"
   ]
  },
  {
   "cell_type": "code",
   "execution_count": 18,
   "metadata": {},
   "outputs": [],
   "source": [
    "import json\n",
    "with open('AMAZON_FASHION.json', 'w') as f:\n",
    "    json.dump(data, f)"
   ]
  },
  {
   "cell_type": "code",
   "execution_count": 25,
   "metadata": {},
   "outputs": [],
   "source": [
    "import os\n",
    "import json\n",
    "import gzip\n",
    "import pandas as pd\n",
    "from urllib.request import urlopen"
   ]
  },
  {
   "cell_type": "code",
   "execution_count": 26,
   "metadata": {},
   "outputs": [],
   "source": [
    "with open('AMAZON_FASHION.json', 'r') as f:\n",
    "  data = json.load(f)"
   ]
  },
  {
   "cell_type": "code",
   "execution_count": 27,
   "metadata": {},
   "outputs": [
    {
     "name": "stdout",
     "output_type": "stream",
     "text": [
      "<class 'list'>\n",
      "{'overall': 5.0, 'verified': True, 'reviewTime': '10 20, 2014', 'reviewerID': 'A1D4G1SNUZWQOT', 'asin': '7106116521', 'reviewerName': 'Tracy', 'reviewText': 'Exactly what I needed.', 'summary': 'perfect replacements!!', 'unixReviewTime': 1413763200}\n",
      "<class 'dict'>\n"
     ]
    }
   ],
   "source": [
    "print(type(data))\n",
    "print(data[0])\n",
    "print(type(data[0]))"
   ]
  },
  {
   "cell_type": "code",
   "execution_count": 28,
   "metadata": {},
   "outputs": [
    {
     "name": "stdout",
     "output_type": "stream",
     "text": [
      "883636\n"
     ]
    }
   ],
   "source": [
    "# convert list into pandas dataframe\n",
    "df = pd.DataFrame.from_dict(data)\n",
    "\n",
    "print(len(df))"
   ]
  },
  {
   "cell_type": "code",
   "execution_count": 29,
   "metadata": {},
   "outputs": [
    {
     "data": {
      "text/plain": [
       "overall                                                         3.0\n",
       "verified                                                       True\n",
       "reviewTime                                              12 18, 2014\n",
       "reviewerID                                           A1LN4K6MFBNJ85\n",
       "asin                                                     B00IMABQ76\n",
       "reviewerName                                          Sara D. Crowe\n",
       "reviewText        I would have given this a 5/5 but when I went ...\n",
       "summary                                     Looks good, smells bad.\n",
       "unixReviewTime                                           1418860800\n",
       "vote                                                            NaN\n",
       "style                         {'Size:': ' 32B', 'Color:': ' Black'}\n",
       "image                                                           NaN\n",
       "Name: 500000, dtype: object"
      ]
     },
     "execution_count": 29,
     "metadata": {},
     "output_type": "execute_result"
    }
   ],
   "source": [
    "df.iloc[500000]"
   ]
  },
  {
   "cell_type": "code",
   "execution_count": 30,
   "metadata": {},
   "outputs": [],
   "source": [
    "df_product = df.loc[df['asin'] == 'B00IMABQ76']"
   ]
  },
  {
   "cell_type": "code",
   "execution_count": 31,
   "metadata": {},
   "outputs": [
    {
     "data": {
      "text/html": [
       "<div>\n",
       "<style scoped>\n",
       "    .dataframe tbody tr th:only-of-type {\n",
       "        vertical-align: middle;\n",
       "    }\n",
       "\n",
       "    .dataframe tbody tr th {\n",
       "        vertical-align: top;\n",
       "    }\n",
       "\n",
       "    .dataframe thead th {\n",
       "        text-align: right;\n",
       "    }\n",
       "</style>\n",
       "<table border=\"1\" class=\"dataframe\">\n",
       "  <thead>\n",
       "    <tr style=\"text-align: right;\">\n",
       "      <th></th>\n",
       "      <th>overall</th>\n",
       "      <th>verified</th>\n",
       "      <th>reviewTime</th>\n",
       "      <th>reviewerID</th>\n",
       "      <th>asin</th>\n",
       "      <th>reviewerName</th>\n",
       "      <th>reviewText</th>\n",
       "      <th>summary</th>\n",
       "      <th>unixReviewTime</th>\n",
       "      <th>vote</th>\n",
       "      <th>style</th>\n",
       "      <th>image</th>\n",
       "    </tr>\n",
       "  </thead>\n",
       "  <tbody>\n",
       "    <tr>\n",
       "      <th>173955</th>\n",
       "      <td>5.0</td>\n",
       "      <td>True</td>\n",
       "      <td>03 28, 2014</td>\n",
       "      <td>A390IIKX15YQ0G</td>\n",
       "      <td>B00IMABQ76</td>\n",
       "      <td>Tabitha E Rodela</td>\n",
       "      <td>Very inexpensive, yet well made bra.  It is di...</td>\n",
       "      <td>Excellent</td>\n",
       "      <td>1395964800</td>\n",
       "      <td>5</td>\n",
       "      <td>{'Size:': ' 32B', 'Color:': ' Dark Blue'}</td>\n",
       "      <td>NaN</td>\n",
       "    </tr>\n",
       "    <tr>\n",
       "      <th>499994</th>\n",
       "      <td>3.0</td>\n",
       "      <td>True</td>\n",
       "      <td>02 6, 2017</td>\n",
       "      <td>AP7ZM3KQNSBAD</td>\n",
       "      <td>B00IMABQ76</td>\n",
       "      <td>Carrie</td>\n",
       "      <td>Pretty, but definitely can't wear all day. Rea...</td>\n",
       "      <td>Scratchy but sexy</td>\n",
       "      <td>1486339200</td>\n",
       "      <td>NaN</td>\n",
       "      <td>{'Size:': ' 32B', 'Color:': ' Red'}</td>\n",
       "      <td>NaN</td>\n",
       "    </tr>\n",
       "    <tr>\n",
       "      <th>499995</th>\n",
       "      <td>1.0</td>\n",
       "      <td>True</td>\n",
       "      <td>02 28, 2015</td>\n",
       "      <td>A13T9PJLK08310</td>\n",
       "      <td>B00IMABQ76</td>\n",
       "      <td>Ahmed Al Farsi</td>\n",
       "      <td>Normal quality and i paid 2$ to view it in my ...</td>\n",
       "      <td>Normal quality and i paid 2$ to view it in ...</td>\n",
       "      <td>1425081600</td>\n",
       "      <td>NaN</td>\n",
       "      <td>{'Size:': ' 34B', 'Color:': ' Red'}</td>\n",
       "      <td>NaN</td>\n",
       "    </tr>\n",
       "    <tr>\n",
       "      <th>499996</th>\n",
       "      <td>4.0</td>\n",
       "      <td>True</td>\n",
       "      <td>01 21, 2015</td>\n",
       "      <td>A17IW3G335SEU9</td>\n",
       "      <td>B00IMABQ76</td>\n",
       "      <td>Brandy</td>\n",
       "      <td>It looks really sexy but I'm glad it came with...</td>\n",
       "      <td>It looks really sexy but I'm glad it came with...</td>\n",
       "      <td>1421798400</td>\n",
       "      <td>NaN</td>\n",
       "      <td>{'Size:': ' 36C', 'Color:': ' Black'}</td>\n",
       "      <td>NaN</td>\n",
       "    </tr>\n",
       "    <tr>\n",
       "      <th>499997</th>\n",
       "      <td>4.0</td>\n",
       "      <td>True</td>\n",
       "      <td>01 12, 2015</td>\n",
       "      <td>A34EYZMTCPC6Y2</td>\n",
       "      <td>B00IMABQ76</td>\n",
       "      <td>Viviana A</td>\n",
       "      <td>Its not as pretty as i thought but my bf likes...</td>\n",
       "      <td>Four Stars</td>\n",
       "      <td>1421020800</td>\n",
       "      <td>NaN</td>\n",
       "      <td>{'Size:': ' 34B', 'Color:': ' Nude'}</td>\n",
       "      <td>NaN</td>\n",
       "    </tr>\n",
       "    <tr>\n",
       "      <th>499998</th>\n",
       "      <td>1.0</td>\n",
       "      <td>True</td>\n",
       "      <td>12 21, 2014</td>\n",
       "      <td>ARJTN0299BFOQ</td>\n",
       "      <td>B00IMABQ76</td>\n",
       "      <td>Regina Anderson</td>\n",
       "      <td>This was way too small, from the straps to ban...</td>\n",
       "      <td>Disappointed.</td>\n",
       "      <td>1419120000</td>\n",
       "      <td>2</td>\n",
       "      <td>{'Size:': ' 32B', 'Color:': ' Dark Blue'}</td>\n",
       "      <td>NaN</td>\n",
       "    </tr>\n",
       "    <tr>\n",
       "      <th>499999</th>\n",
       "      <td>5.0</td>\n",
       "      <td>True</td>\n",
       "      <td>12 20, 2014</td>\n",
       "      <td>ATBDPMXM9ZBOT</td>\n",
       "      <td>B00IMABQ76</td>\n",
       "      <td>JStreck</td>\n",
       "      <td>Beautiful</td>\n",
       "      <td>Five Stars</td>\n",
       "      <td>1419033600</td>\n",
       "      <td>NaN</td>\n",
       "      <td>{'Size:': ' 34B', 'Color:': ' Black'}</td>\n",
       "      <td>NaN</td>\n",
       "    </tr>\n",
       "    <tr>\n",
       "      <th>500000</th>\n",
       "      <td>3.0</td>\n",
       "      <td>True</td>\n",
       "      <td>12 18, 2014</td>\n",
       "      <td>A1LN4K6MFBNJ85</td>\n",
       "      <td>B00IMABQ76</td>\n",
       "      <td>Sara D. Crowe</td>\n",
       "      <td>I would have given this a 5/5 but when I went ...</td>\n",
       "      <td>Looks good, smells bad.</td>\n",
       "      <td>1418860800</td>\n",
       "      <td>NaN</td>\n",
       "      <td>{'Size:': ' 32B', 'Color:': ' Black'}</td>\n",
       "      <td>NaN</td>\n",
       "    </tr>\n",
       "    <tr>\n",
       "      <th>500001</th>\n",
       "      <td>4.0</td>\n",
       "      <td>True</td>\n",
       "      <td>10 4, 2014</td>\n",
       "      <td>A2X6B76LE1AUV3</td>\n",
       "      <td>B00IMABQ76</td>\n",
       "      <td>BritChick95</td>\n",
       "      <td>I love this bra. To look at. So pretty. But my...</td>\n",
       "      <td>Cute. But small. But holy boobs!!!</td>\n",
       "      <td>1412380800</td>\n",
       "      <td>2</td>\n",
       "      <td>{'Size:': ' 32B', 'Color:': ' Nude'}</td>\n",
       "      <td>NaN</td>\n",
       "    </tr>\n",
       "    <tr>\n",
       "      <th>500002</th>\n",
       "      <td>3.0</td>\n",
       "      <td>True</td>\n",
       "      <td>08 17, 2014</td>\n",
       "      <td>A3ESZNGDIPO887</td>\n",
       "      <td>B00IMABQ76</td>\n",
       "      <td>Jenny</td>\n",
       "      <td>Looks good but way to tight</td>\n",
       "      <td>It's cute</td>\n",
       "      <td>1408233600</td>\n",
       "      <td>NaN</td>\n",
       "      <td>{'Size:': ' 32A', 'Color:': ' Nude'}</td>\n",
       "      <td>NaN</td>\n",
       "    </tr>\n",
       "    <tr>\n",
       "      <th>500003</th>\n",
       "      <td>5.0</td>\n",
       "      <td>True</td>\n",
       "      <td>06 3, 2014</td>\n",
       "      <td>A2O08DWM2CSB9F</td>\n",
       "      <td>B00IMABQ76</td>\n",
       "      <td>shecks74</td>\n",
       "      <td>Fits great - it feels secure, no moving around...</td>\n",
       "      <td>Fits great</td>\n",
       "      <td>1401753600</td>\n",
       "      <td>3</td>\n",
       "      <td>{'Size:': ' 32A', 'Color:': ' Nude'}</td>\n",
       "      <td>NaN</td>\n",
       "    </tr>\n",
       "  </tbody>\n",
       "</table>\n",
       "</div>"
      ],
      "text/plain": [
       "        overall  verified   reviewTime      reviewerID        asin  \\\n",
       "173955      5.0      True  03 28, 2014  A390IIKX15YQ0G  B00IMABQ76   \n",
       "499994      3.0      True   02 6, 2017   AP7ZM3KQNSBAD  B00IMABQ76   \n",
       "499995      1.0      True  02 28, 2015  A13T9PJLK08310  B00IMABQ76   \n",
       "499996      4.0      True  01 21, 2015  A17IW3G335SEU9  B00IMABQ76   \n",
       "499997      4.0      True  01 12, 2015  A34EYZMTCPC6Y2  B00IMABQ76   \n",
       "499998      1.0      True  12 21, 2014   ARJTN0299BFOQ  B00IMABQ76   \n",
       "499999      5.0      True  12 20, 2014   ATBDPMXM9ZBOT  B00IMABQ76   \n",
       "500000      3.0      True  12 18, 2014  A1LN4K6MFBNJ85  B00IMABQ76   \n",
       "500001      4.0      True   10 4, 2014  A2X6B76LE1AUV3  B00IMABQ76   \n",
       "500002      3.0      True  08 17, 2014  A3ESZNGDIPO887  B00IMABQ76   \n",
       "500003      5.0      True   06 3, 2014  A2O08DWM2CSB9F  B00IMABQ76   \n",
       "\n",
       "            reviewerName                                         reviewText  \\\n",
       "173955  Tabitha E Rodela  Very inexpensive, yet well made bra.  It is di...   \n",
       "499994            Carrie  Pretty, but definitely can't wear all day. Rea...   \n",
       "499995    Ahmed Al Farsi  Normal quality and i paid 2$ to view it in my ...   \n",
       "499996            Brandy  It looks really sexy but I'm glad it came with...   \n",
       "499997         Viviana A  Its not as pretty as i thought but my bf likes...   \n",
       "499998   Regina Anderson  This was way too small, from the straps to ban...   \n",
       "499999           JStreck                                          Beautiful   \n",
       "500000     Sara D. Crowe  I would have given this a 5/5 but when I went ...   \n",
       "500001       BritChick95  I love this bra. To look at. So pretty. But my...   \n",
       "500002             Jenny                        Looks good but way to tight   \n",
       "500003          shecks74  Fits great - it feels secure, no moving around...   \n",
       "\n",
       "                                                  summary  unixReviewTime  \\\n",
       "173955                                          Excellent      1395964800   \n",
       "499994                                  Scratchy but sexy      1486339200   \n",
       "499995     Normal quality and i paid 2$ to view it in ...      1425081600   \n",
       "499996  It looks really sexy but I'm glad it came with...      1421798400   \n",
       "499997                                         Four Stars      1421020800   \n",
       "499998                                      Disappointed.      1419120000   \n",
       "499999                                         Five Stars      1419033600   \n",
       "500000                            Looks good, smells bad.      1418860800   \n",
       "500001                 Cute. But small. But holy boobs!!!      1412380800   \n",
       "500002                                          It's cute      1408233600   \n",
       "500003                                         Fits great      1401753600   \n",
       "\n",
       "       vote                                      style image  \n",
       "173955    5  {'Size:': ' 32B', 'Color:': ' Dark Blue'}   NaN  \n",
       "499994  NaN        {'Size:': ' 32B', 'Color:': ' Red'}   NaN  \n",
       "499995  NaN        {'Size:': ' 34B', 'Color:': ' Red'}   NaN  \n",
       "499996  NaN      {'Size:': ' 36C', 'Color:': ' Black'}   NaN  \n",
       "499997  NaN       {'Size:': ' 34B', 'Color:': ' Nude'}   NaN  \n",
       "499998    2  {'Size:': ' 32B', 'Color:': ' Dark Blue'}   NaN  \n",
       "499999  NaN      {'Size:': ' 34B', 'Color:': ' Black'}   NaN  \n",
       "500000  NaN      {'Size:': ' 32B', 'Color:': ' Black'}   NaN  \n",
       "500001    2       {'Size:': ' 32B', 'Color:': ' Nude'}   NaN  \n",
       "500002  NaN       {'Size:': ' 32A', 'Color:': ' Nude'}   NaN  \n",
       "500003    3       {'Size:': ' 32A', 'Color:': ' Nude'}   NaN  "
      ]
     },
     "execution_count": 31,
     "metadata": {},
     "output_type": "execute_result"
    }
   ],
   "source": [
    "df_product"
   ]
  },
  {
   "cell_type": "code",
   "execution_count": 32,
   "metadata": {},
   "outputs": [
    {
     "data": {
      "text/plain": [
       "['10 20', '2014']"
      ]
     },
     "execution_count": 32,
     "metadata": {},
     "output_type": "execute_result"
    }
   ],
   "source": [
    "date = df['reviewTime'][0].strip().split(', ')\n",
    "date"
   ]
  },
  {
   "cell_type": "code",
   "execution_count": 33,
   "metadata": {},
   "outputs": [],
   "source": [
    "time, year, month, day = [], [], [], []\n",
    "\n",
    "for idx in range(len(df)):\n",
    "    time.append(df['unixReviewTime'][idx])\n",
    "\n",
    "    date = df['reviewTime'][idx].strip().split(', ')\n",
    "    year.append(date[1])\n",
    "    \n",
    "    date = date[0].split(' ')\n",
    "    month.append(date[0])\n",
    "    day.append(date[1])"
   ]
  },
  {
   "cell_type": "code",
   "execution_count": 34,
   "metadata": {},
   "outputs": [
    {
     "name": "stdout",
     "output_type": "stream",
     "text": [
      "1413763200 2014 10 20\n"
     ]
    }
   ],
   "source": [
    "print(time[0], year[0], month[0], day[0])"
   ]
  },
  {
   "cell_type": "code",
   "execution_count": 35,
   "metadata": {},
   "outputs": [],
   "source": [
    "df['time'] = time\n",
    "df['year'] = year\n",
    "df['month'] = month\n",
    "df['day'] = day"
   ]
  },
  {
   "cell_type": "markdown",
   "metadata": {},
   "source": [
    "## Create DCWE Input Dataset"
   ]
  },
  {
   "cell_type": "code",
   "execution_count": 36,
   "metadata": {},
   "outputs": [
    {
     "data": {
      "text/plain": [
       "overall                              5.0\n",
       "verified                            True\n",
       "reviewTime                   10 20, 2014\n",
       "reviewerID                A1D4G1SNUZWQOT\n",
       "asin                          7106116521\n",
       "reviewerName                       Tracy\n",
       "reviewText        Exactly what I needed.\n",
       "summary           perfect replacements!!\n",
       "unixReviewTime                1413763200\n",
       "vote                                 NaN\n",
       "style                                NaN\n",
       "image                                NaN\n",
       "time                          1413763200\n",
       "year                                2014\n",
       "month                                 10\n",
       "day                                   20\n",
       "Name: 0, dtype: object"
      ]
     },
     "execution_count": 36,
     "metadata": {},
     "output_type": "execute_result"
    }
   ],
   "source": [
    "df.iloc[0]"
   ]
  },
  {
   "cell_type": "code",
   "execution_count": 37,
   "metadata": {},
   "outputs": [
    {
     "name": "stdout",
     "output_type": "stream",
     "text": [
      "2002\n",
      "2018\n"
     ]
    }
   ],
   "source": [
    "print(sorted(year)[0])\n",
    "print(sorted(year)[-1])"
   ]
  },
  {
   "cell_type": "code",
   "execution_count": 39,
   "metadata": {},
   "outputs": [],
   "source": [
    "dataset_review = []\n",
    "\n",
    "for idx in range(len(df)):\n",
    "    dict = {}\n",
    "    dict = {'product': str(df['asin'][idx]), 'time': str(df['unixReviewTime'][idx]), 'year': str(df['year'][idx]), 'month': str(df['month'][idx]), 'day': str(df['day'][idx]), 'text': df['reviewText'][idx], 'rating': str(df['overall'][idx])}\n",
    "    dataset_review.append(dict)"
   ]
  },
  {
   "cell_type": "code",
   "execution_count": 40,
   "metadata": {},
   "outputs": [
    {
     "name": "stdout",
     "output_type": "stream",
     "text": [
      "{'product': '7106116521', 'time': '1413763200', 'year': '2014', 'month': '10', 'day': '20', 'text': 'Exactly what I needed.', 'rating': '5.0'}\n"
     ]
    }
   ],
   "source": [
    "print(dataset_review[0])"
   ]
  },
  {
   "cell_type": "code",
   "execution_count": 41,
   "metadata": {},
   "outputs": [],
   "source": [
    "with open('amazon_fashion_dataset_review.json', 'w') as f:\n",
    "    json.dump(dataset_review, f)"
   ]
  },
  {
   "cell_type": "markdown",
   "metadata": {},
   "source": [
    "## Check Datasets"
   ]
  },
  {
   "cell_type": "code",
   "execution_count": 42,
   "metadata": {},
   "outputs": [],
   "source": [
    "with open('amazon_fashion_dataset_review.json', 'r') as f:\n",
    "    dataset_review = json.load(f)"
   ]
  },
  {
   "cell_type": "code",
   "execution_count": 43,
   "metadata": {},
   "outputs": [
    {
     "data": {
      "text/plain": [
       "{'product': '7106116521',\n",
       " 'time': '1413763200',\n",
       " 'year': '2014',\n",
       " 'month': '10',\n",
       " 'day': '20',\n",
       " 'text': 'Exactly what I needed.',\n",
       " 'rating': '5.0'}"
      ]
     },
     "execution_count": 43,
     "metadata": {},
     "output_type": "execute_result"
    }
   ],
   "source": [
    "dataset_review[0]"
   ]
  },
  {
   "cell_type": "code",
   "execution_count": 31,
   "metadata": {},
   "outputs": [],
   "source": [
    "data = pd.DataFrame(data)"
   ]
  },
  {
   "cell_type": "code",
   "execution_count": 38,
   "metadata": {},
   "outputs": [
    {
     "data": {
      "text/plain": [
       "0         20\n",
       "1         28\n",
       "2         25\n",
       "3         24\n",
       "4         27\n",
       "          ..\n",
       "883631    21\n",
       "883632    25\n",
       "883633    10\n",
       "883634    10\n",
       "883635    9,\n",
       "Name: day, Length: 883636, dtype: object"
      ]
     },
     "execution_count": 38,
     "metadata": {},
     "output_type": "execute_result"
    }
   ],
   "source": [
    "data['day']"
   ]
  },
  {
   "cell_type": "code",
   "execution_count": 36,
   "metadata": {},
   "outputs": [],
   "source": [
    "data['product'] = data['product'].astype(str)"
   ]
  },
  {
   "cell_type": "code",
   "execution_count": 37,
   "metadata": {},
   "outputs": [
    {
     "data": {
      "text/plain": [
       "0         7106116521\n",
       "1         7106116521\n",
       "2         7106116521\n",
       "3         7106116521\n",
       "4         7106116521\n",
       "             ...    \n",
       "883631    B01HJHTH5U\n",
       "883632    B01HJHTH5U\n",
       "883633    B01HJHTH5U\n",
       "883634    B01HJHF97K\n",
       "883635    B01HJG5NMW\n",
       "Name: product, Length: 883636, dtype: object"
      ]
     },
     "execution_count": 37,
     "metadata": {},
     "output_type": "execute_result"
    }
   ],
   "source": [
    "data['product']"
   ]
  },
  {
   "cell_type": "code",
   "execution_count": null,
   "metadata": {},
   "outputs": [],
   "source": [
    "for c in pd.read_json('amazon_fashion_dataset_review.json', chunksize=10000, lines=True):\n",
    "    print(c['product'][0])"
   ]
  },
  {
   "cell_type": "code",
   "execution_count": null,
   "metadata": {},
   "outputs": [],
   "source": []
  }
 ],
 "metadata": {
  "interpreter": {
   "hash": "658084397260d4aab479b7df4163d6eb096562a13a5b5f6c649e3c1d5e34b6c2"
  },
  "kernelspec": {
   "display_name": "Python 3.7.11 ('pytorch')",
   "language": "python",
   "name": "python3"
  },
  "language_info": {
   "codemirror_mode": {
    "name": "ipython",
    "version": 3
   },
   "file_extension": ".py",
   "mimetype": "text/x-python",
   "name": "python",
   "nbconvert_exporter": "python",
   "pygments_lexer": "ipython3",
   "version": "3.7.11"
  },
  "orig_nbformat": 4
 },
 "nbformat": 4,
 "nbformat_minor": 2
}
