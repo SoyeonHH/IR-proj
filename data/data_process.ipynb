{
 "cells": [
  {
   "cell_type": "code",
   "execution_count": 1,
   "metadata": {},
   "outputs": [],
   "source": [
    "import os\n",
    "import json\n",
    "import gzip\n",
    "import pandas as pd\n",
    "from urllib.request import urlopen"
   ]
  },
  {
   "cell_type": "code",
   "execution_count": 2,
   "metadata": {},
   "outputs": [
    {
     "name": "stdout",
     "output_type": "stream",
     "text": [
      "--2022-06-05 01:13:40--  http://deepyeti.ucsd.edu/jianmo/amazon/sample/meta_Computers.json.gz\n",
      "Resolving deepyeti.ucsd.edu (deepyeti.ucsd.edu)... 169.228.63.50\n",
      "Connecting to deepyeti.ucsd.edu (deepyeti.ucsd.edu)|169.228.63.50|:80... connected.\n",
      "HTTP request sent, awaiting response... 200 OK\n",
      "Length: 7010521 (6.7M) [application/octet-stream]\n",
      "Saving to: ‘meta_Computers.json.gz.1’\n",
      "\n",
      "meta_Computers.json  12%[=>                  ] 865.14K   163KB/s    eta 37s    ^C\n"
     ]
    }
   ],
   "source": [
    "# !wget http://deepyeti.ucsd.edu/jianmo/amazon/sample/meta_Computers.json.gz"
   ]
  },
  {
   "cell_type": "code",
   "execution_count": 2,
   "metadata": {},
   "outputs": [
    {
     "name": "stdout",
     "output_type": "stream",
     "text": [
      "186637\n",
      "{'title': 'Slime Time Fall Fest [With CDROM and Collector Cards and Neutron Balls, Incredi-Ball and Glow Stick Necklace, Paper Fram', 'brand': 'Group Publishing (CO)', 'feature': ['Product Dimensions:\\n                    \\n8.7 x 3.6 x 11.4 inches', 'Shipping Weight:\\n                    \\n2.4 pounds'], 'rank': '13,052,976inClothing,Shoesamp;Jewelry(', 'date': '8.70 inches', 'asin': '0764443682', 'imageURL': ['https://images-na.ssl-images-amazon.com/images/I/51bSrINiWpL._US40_.jpg'], 'imageURLHighRes': ['https://images-na.ssl-images-amazon.com/images/I/51bSrINiWpL.jpg']}\n"
     ]
    }
   ],
   "source": [
    "### load the meta data\n",
    "\n",
    "data = []\n",
    "with gzip.open('meta_AMAZON_FASHION.json.gz') as f:\n",
    "    for l in f:\n",
    "        data.append(json.loads(l.strip()))\n",
    "    \n",
    "# total length of list, this number equals total number of products\n",
    "print(len(data))\n",
    "\n",
    "# first row of the list\n",
    "print(data[0])"
   ]
  },
  {
   "cell_type": "code",
   "execution_count": 3,
   "metadata": {},
   "outputs": [],
   "source": [
    "import json\n",
    "with open('meta_AMAZON_FASHION.json', 'w') as f:\n",
    "    json.dump(data, f)"
   ]
  },
  {
   "cell_type": "code",
   "execution_count": 4,
   "metadata": {},
   "outputs": [],
   "source": [
    "with open('meta_AMAZON_FASHION.json', 'r') as f:\n",
    "  data = json.load(f)"
   ]
  },
  {
   "cell_type": "code",
   "execution_count": 5,
   "metadata": {},
   "outputs": [
    {
     "name": "stdout",
     "output_type": "stream",
     "text": [
      "186637\n"
     ]
    }
   ],
   "source": [
    "# convert list into pandas dataframe\n",
    "\n",
    "df = pd.DataFrame.from_dict(data)\n",
    "\n",
    "print(len(df))"
   ]
  },
  {
   "cell_type": "code",
   "execution_count": 6,
   "metadata": {},
   "outputs": [
    {
     "name": "stdout",
     "output_type": "stream",
     "text": [
      "430\n",
      "186207\n"
     ]
    }
   ],
   "source": [
    "### remove rows with unformatted title (i.e. some 'title' may still contain html style content)\n",
    "\n",
    "df3 = df.fillna('')\n",
    "df4 = df3[df3.title.str.contains('getTime')] # unformatted rows\n",
    "df5 = df3[~df3.title.str.contains('getTime')] # filter those unformatted rows\n",
    "print(len(df4))\n",
    "print(len(df5))"
   ]
  },
  {
   "cell_type": "code",
   "execution_count": 10,
   "metadata": {},
   "outputs": [
    {
     "data": {
      "text/plain": [
       "title              var aPageStart = (new Date()).getTime();\\nvar ...\n",
       "brand                                                               \n",
       "feature            [Package Dimensions:\\n                    \\n3....\n",
       "rank                              24,954,464inClothing,ShoesJewelry(\n",
       "date                                                          Fossil\n",
       "asin                                                      B0013HNSPS\n",
       "imageURL                                                            \n",
       "imageURLHighRes                                                     \n",
       "description                                                         \n",
       "price                                                               \n",
       "also_view                                                           \n",
       "also_buy                                                            \n",
       "fit                                                                 \n",
       "details                                                             \n",
       "similar_item                                                        \n",
       "tech1                                                               \n",
       "Name: 4248, dtype: object"
      ]
     },
     "execution_count": 10,
     "metadata": {},
     "output_type": "execute_result"
    }
   ],
   "source": [
    "# how those unformatted rows look like\n",
    "df4.iloc[0]"
   ]
  },
  {
   "cell_type": "markdown",
   "metadata": {},
   "source": [
    "## Load AMAZON FASHION meta datasets"
   ]
  },
  {
   "cell_type": "code",
   "execution_count": 10,
   "metadata": {},
   "outputs": [
    {
     "name": "stdout",
     "output_type": "stream",
     "text": [
      "186637\n",
      "{'title': 'Slime Time Fall Fest [With CDROM and Collector Cards and Neutron Balls, Incredi-Ball and Glow Stick Necklace, Paper Fram', 'brand': 'Group Publishing (CO)', 'feature': ['Product Dimensions:\\n                    \\n8.7 x 3.6 x 11.4 inches', 'Shipping Weight:\\n                    \\n2.4 pounds'], 'rank': '13,052,976inClothing,Shoesamp;Jewelry(', 'date': '8.70 inches', 'asin': '0764443682', 'imageURL': ['https://images-na.ssl-images-amazon.com/images/I/51bSrINiWpL._US40_.jpg'], 'imageURLHighRes': ['https://images-na.ssl-images-amazon.com/images/I/51bSrINiWpL.jpg']}\n"
     ]
    }
   ],
   "source": [
    "### load the fashion data\n",
    "\n",
    "data = []\n",
    "with gzip.open('meta_AMAZON_FASHION.json.gz') as f:\n",
    "    for l in f:\n",
    "        data.append(json.loads(l.strip()))\n",
    "    \n",
    "# total length of list, this number equals total number of products\n",
    "print(len(data))\n",
    "\n",
    "# first row of the list\n",
    "print(data[0])"
   ]
  },
  {
   "cell_type": "code",
   "execution_count": 11,
   "metadata": {},
   "outputs": [],
   "source": [
    "import json\n",
    "with open('meta_AMAZON_FASHION.json', 'w') as f:\n",
    "    json.dump(data, f)"
   ]
  },
  {
   "cell_type": "code",
   "execution_count": 11,
   "metadata": {},
   "outputs": [],
   "source": [
    "with open('meta_AMAZON_FASHION.json', 'r') as f:\n",
    "  data = json.load(f)"
   ]
  },
  {
   "cell_type": "code",
   "execution_count": 12,
   "metadata": {},
   "outputs": [
    {
     "name": "stdout",
     "output_type": "stream",
     "text": [
      "186637\n"
     ]
    }
   ],
   "source": [
    "# convert list into pandas dataframe\n",
    "df = pd.DataFrame.from_dict(data)\n",
    "\n",
    "print(len(df))"
   ]
  },
  {
   "cell_type": "code",
   "execution_count": 14,
   "metadata": {},
   "outputs": [
    {
     "name": "stdout",
     "output_type": "stream",
     "text": [
      "430\n",
      "186207\n"
     ]
    }
   ],
   "source": [
    "### remove rows with unformatted title (i.e. some 'title' may still contain html style content)\n",
    "df3 = df.fillna('')\n",
    "df4 = df3[df3.title.str.contains('getTime')] # unformatted rows\n",
    "df5 = df3[~df3.title.str.contains('getTime')] # filter those unformatted rows\n",
    "print(len(df4))\n",
    "print(len(df5))"
   ]
  },
  {
   "cell_type": "code",
   "execution_count": 15,
   "metadata": {},
   "outputs": [
    {
     "data": {
      "text/plain": [
       "title              var aPageStart = (new Date()).getTime();\\nvar ...\n",
       "brand                                                               \n",
       "feature            [Package Dimensions:\\n                    \\n3....\n",
       "rank                              24,954,464inClothing,ShoesJewelry(\n",
       "date                                                          Fossil\n",
       "asin                                                      B0013HNSPS\n",
       "imageURL                                                            \n",
       "imageURLHighRes                                                     \n",
       "description                                                         \n",
       "price                                                               \n",
       "also_view                                                           \n",
       "also_buy                                                            \n",
       "fit                                                                 \n",
       "details                                                             \n",
       "similar_item                                                        \n",
       "tech1                                                               \n",
       "Name: 4248, dtype: object"
      ]
     },
     "execution_count": 15,
     "metadata": {},
     "output_type": "execute_result"
    }
   ],
   "source": [
    "# how those unformatted rows look like\n",
    "df4.iloc[0]"
   ]
  },
  {
   "cell_type": "code",
   "execution_count": 18,
   "metadata": {},
   "outputs": [
    {
     "data": {
      "text/plain": [
       "title              XCC Qi promise new spider snake preparing men'...\n",
       "brand                                                               \n",
       "feature                                                             \n",
       "rank                          11,654,581inClothing,Shoesamp;Jewelry(\n",
       "date                                                          5 star\n",
       "asin                                                      1291691480\n",
       "imageURL           [https://images-na.ssl-images-amazon.com/image...\n",
       "imageURLHighRes    [https://images-na.ssl-images-amazon.com/image...\n",
       "description                                                         \n",
       "price                                                               \n",
       "also_view                                                           \n",
       "also_buy                                                            \n",
       "fit                                                                 \n",
       "details                                                             \n",
       "similar_item                                                        \n",
       "tech1                                                               \n",
       "Name: 1, dtype: object"
      ]
     },
     "execution_count": 18,
     "metadata": {},
     "output_type": "execute_result"
    }
   ],
   "source": [
    "# formatted rows\n",
    "df5.iloc[1]"
   ]
  },
  {
   "cell_type": "markdown",
   "metadata": {},
   "source": [
    "## Load AMAZON FASHION datasets"
   ]
  },
  {
   "cell_type": "code",
   "execution_count": 19,
   "metadata": {},
   "outputs": [
    {
     "name": "stdout",
     "output_type": "stream",
     "text": [
      "883636\n",
      "{'overall': 5.0, 'verified': True, 'reviewTime': '10 20, 2014', 'reviewerID': 'A1D4G1SNUZWQOT', 'asin': '7106116521', 'reviewerName': 'Tracy', 'reviewText': 'Exactly what I needed.', 'summary': 'perfect replacements!!', 'unixReviewTime': 1413763200}\n"
     ]
    }
   ],
   "source": [
    "### load the fashion data\n",
    "data = []\n",
    "with gzip.open('AMAZON_FASHION.json.gz') as f:\n",
    "    for l in f:\n",
    "        data.append(json.loads(l.strip()))\n",
    "    \n",
    "# total length of list, this number equals total number of products\n",
    "print(len(data))\n",
    "\n",
    "# first row of the list\n",
    "print(data[0])"
   ]
  },
  {
   "cell_type": "code",
   "execution_count": 20,
   "metadata": {},
   "outputs": [],
   "source": [
    "import json\n",
    "with open('AMAZON_FASHION.json', 'w') as f:\n",
    "    json.dump(data, f)"
   ]
  },
  {
   "cell_type": "code",
   "execution_count": 21,
   "metadata": {},
   "outputs": [],
   "source": [
    "with open('AMAZON_FASHION.json', 'r') as f:\n",
    "  data = json.load(f)"
   ]
  },
  {
   "cell_type": "code",
   "execution_count": 22,
   "metadata": {},
   "outputs": [
    {
     "name": "stdout",
     "output_type": "stream",
     "text": [
      "883636\n"
     ]
    }
   ],
   "source": [
    "# convert list into pandas dataframe\n",
    "df = pd.DataFrame.from_dict(data)\n",
    "\n",
    "print(len(df))"
   ]
  },
  {
   "cell_type": "code",
   "execution_count": 26,
   "metadata": {},
   "outputs": [
    {
     "data": {
      "text/plain": [
       "overall                              5.0\n",
       "verified                            True\n",
       "reviewTime                   10 20, 2014\n",
       "reviewerID                A1D4G1SNUZWQOT\n",
       "asin                          7106116521\n",
       "reviewerName                       Tracy\n",
       "reviewText        Exactly what I needed.\n",
       "summary           perfect replacements!!\n",
       "unixReviewTime                1413763200\n",
       "vote                                 NaN\n",
       "style                                NaN\n",
       "image                                NaN\n",
       "Name: 0, dtype: object"
      ]
     },
     "execution_count": 26,
     "metadata": {},
     "output_type": "execute_result"
    }
   ],
   "source": [
    "df.iloc[0]"
   ]
  },
  {
   "cell_type": "code",
   "execution_count": 38,
   "metadata": {},
   "outputs": [],
   "source": [
    "df_reviewer = df.loc[df['reviewerID'] == 'A2SORD63QMZBZL']"
   ]
  },
  {
   "cell_type": "code",
   "execution_count": 39,
   "metadata": {},
   "outputs": [
    {
     "data": {
      "text/html": [
       "<div>\n",
       "<style scoped>\n",
       "    .dataframe tbody tr th:only-of-type {\n",
       "        vertical-align: middle;\n",
       "    }\n",
       "\n",
       "    .dataframe tbody tr th {\n",
       "        vertical-align: top;\n",
       "    }\n",
       "\n",
       "    .dataframe thead th {\n",
       "        text-align: right;\n",
       "    }\n",
       "</style>\n",
       "<table border=\"1\" class=\"dataframe\">\n",
       "  <thead>\n",
       "    <tr style=\"text-align: right;\">\n",
       "      <th></th>\n",
       "      <th>overall</th>\n",
       "      <th>verified</th>\n",
       "      <th>reviewTime</th>\n",
       "      <th>reviewerID</th>\n",
       "      <th>asin</th>\n",
       "      <th>reviewerName</th>\n",
       "      <th>reviewText</th>\n",
       "      <th>summary</th>\n",
       "      <th>unixReviewTime</th>\n",
       "      <th>vote</th>\n",
       "      <th>style</th>\n",
       "      <th>image</th>\n",
       "    </tr>\n",
       "  </thead>\n",
       "  <tbody>\n",
       "    <tr>\n",
       "      <th>2709</th>\n",
       "      <td>5.0</td>\n",
       "      <td>True</td>\n",
       "      <td>10 20, 2014</td>\n",
       "      <td>A2SORD63QMZBZL</td>\n",
       "      <td>B000AO7PY0</td>\n",
       "      <td>LMcLean</td>\n",
       "      <td>These tights are good quality.  My daughter ha...</td>\n",
       "      <td>These tights are good quality. My daughter has...</td>\n",
       "      <td>1413763200</td>\n",
       "      <td>NaN</td>\n",
       "      <td>{'Size:': ' One Size', 'Color:': ' White/Red'}</td>\n",
       "      <td>NaN</td>\n",
       "    </tr>\n",
       "    <tr>\n",
       "      <th>74613</th>\n",
       "      <td>5.0</td>\n",
       "      <td>True</td>\n",
       "      <td>10 20, 2014</td>\n",
       "      <td>A2SORD63QMZBZL</td>\n",
       "      <td>B005MF5NE6</td>\n",
       "      <td>LMcLean</td>\n",
       "      <td>These tights are good quality.  My daughter ha...</td>\n",
       "      <td>These tights are good quality. My daughter has...</td>\n",
       "      <td>1413763200</td>\n",
       "      <td>NaN</td>\n",
       "      <td>{'Size:': ' One Size', 'Color:': ' White/Red'}</td>\n",
       "      <td>NaN</td>\n",
       "    </tr>\n",
       "  </tbody>\n",
       "</table>\n",
       "</div>"
      ],
      "text/plain": [
       "       overall  verified   reviewTime      reviewerID        asin  \\\n",
       "2709       5.0      True  10 20, 2014  A2SORD63QMZBZL  B000AO7PY0   \n",
       "74613      5.0      True  10 20, 2014  A2SORD63QMZBZL  B005MF5NE6   \n",
       "\n",
       "      reviewerName                                         reviewText  \\\n",
       "2709       LMcLean  These tights are good quality.  My daughter ha...   \n",
       "74613      LMcLean  These tights are good quality.  My daughter ha...   \n",
       "\n",
       "                                                 summary  unixReviewTime vote  \\\n",
       "2709   These tights are good quality. My daughter has...      1413763200  NaN   \n",
       "74613  These tights are good quality. My daughter has...      1413763200  NaN   \n",
       "\n",
       "                                                style image  \n",
       "2709   {'Size:': ' One Size', 'Color:': ' White/Red'}   NaN  \n",
       "74613  {'Size:': ' One Size', 'Color:': ' White/Red'}   NaN  "
      ]
     },
     "execution_count": 39,
     "metadata": {},
     "output_type": "execute_result"
    }
   ],
   "source": [
    "df_reviewer"
   ]
  },
  {
   "cell_type": "code",
   "execution_count": 50,
   "metadata": {},
   "outputs": [],
   "source": [
    "years = []\n",
    "\n",
    "for idx in range(len(df)):\n",
    "    years.append(df['reviewTime'][idx][-4:])"
   ]
  },
  {
   "cell_type": "code",
   "execution_count": 51,
   "metadata": {},
   "outputs": [
    {
     "name": "stdout",
     "output_type": "stream",
     "text": [
      "2014\n"
     ]
    }
   ],
   "source": [
    "print(years[0])"
   ]
  },
  {
   "cell_type": "code",
   "execution_count": 52,
   "metadata": {},
   "outputs": [],
   "source": [
    "df['Years'] = years"
   ]
  },
  {
   "cell_type": "code",
   "execution_count": 55,
   "metadata": {},
   "outputs": [
    {
     "data": {
      "text/plain": [
       "90303"
      ]
     },
     "execution_count": 55,
     "metadata": {},
     "output_type": "execute_result"
    }
   ],
   "source": [
    "df_years = df.loc[df['Years'] == '2014']\n",
    "len(df_years)"
   ]
  },
  {
   "cell_type": "markdown",
   "metadata": {},
   "source": [
    "## Create DCWE Input Dataset"
   ]
  },
  {
   "cell_type": "code",
   "execution_count": null,
   "metadata": {},
   "outputs": [],
   "source": []
  }
 ],
 "metadata": {
  "interpreter": {
   "hash": "658084397260d4aab479b7df4163d6eb096562a13a5b5f6c649e3c1d5e34b6c2"
  },
  "kernelspec": {
   "display_name": "Python 3.7.11 ('pytorch')",
   "language": "python",
   "name": "python3"
  },
  "language_info": {
   "codemirror_mode": {
    "name": "ipython",
    "version": 3
   },
   "file_extension": ".py",
   "mimetype": "text/x-python",
   "name": "python",
   "nbconvert_exporter": "python",
   "pygments_lexer": "ipython3",
   "version": "3.7.11"
  },
  "orig_nbformat": 4
 },
 "nbformat": 4,
 "nbformat_minor": 2
}
